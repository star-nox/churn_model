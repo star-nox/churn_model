{
  "nbformat": 4,
  "nbformat_minor": 0,
  "metadata": {
    "colab": {
      "name": "churn_modelling.ipynb",
      "provenance": [],
      "collapsed_sections": [],
      "authorship_tag": "ABX9TyMzjyEF7Xf4K/4TSo1choov",
      "include_colab_link": true
    },
    "kernelspec": {
      "name": "python3",
      "display_name": "Python 3"
    },
    "language_info": {
      "name": "python"
    }
  },
  "cells": [
    {
      "cell_type": "markdown",
      "metadata": {
        "id": "view-in-github",
        "colab_type": "text"
      },
      "source": [
        "<a href=\"https://colab.research.google.com/github/star-nox/churn_model/blob/main/churn_modelling.ipynb\" target=\"_parent\"><img src=\"https://colab.research.google.com/assets/colab-badge.svg\" alt=\"Open In Colab\"/></a>"
      ]
    },
    {
      "cell_type": "code",
      "execution_count": 38,
      "metadata": {
        "id": "uuzHz0WtLJO4"
      },
      "outputs": [],
      "source": [
        "# importing required libraries\n",
        "\n",
        "import numpy as np\n",
        "import pandas as pd\n",
        "import matplotlib.pyplot as plt\n",
        "import keras"
      ]
    },
    {
      "cell_type": "code",
      "source": [
        "# reading data\n",
        "data = pd.read_csv(\"Churn_Modelling.csv\")"
      ],
      "metadata": {
        "id": "FV5gNFO0L3BH"
      },
      "execution_count": 39,
      "outputs": []
    },
    {
      "cell_type": "code",
      "source": [
        "data.head()"
      ],
      "metadata": {
        "colab": {
          "base_uri": "https://localhost:8080/",
          "height": 270
        },
        "id": "PPSm9ms6MA_W",
        "outputId": "41900479-9ab8-471d-ed8a-cd2bcf884206"
      },
      "execution_count": 40,
      "outputs": [
        {
          "output_type": "execute_result",
          "data": {
            "text/plain": [
              "   RowNumber  CustomerId   Surname  CreditScore Geography  Gender  Age  \\\n",
              "0          1    15634602  Hargrave          619    France  Female   42   \n",
              "1          2    15647311      Hill          608     Spain  Female   41   \n",
              "2          3    15619304      Onio          502    France  Female   42   \n",
              "3          4    15701354      Boni          699    France  Female   39   \n",
              "4          5    15737888  Mitchell          850     Spain  Female   43   \n",
              "\n",
              "   Tenure    Balance  NumOfProducts  HasCrCard  IsActiveMember  \\\n",
              "0       2       0.00              1          1               1   \n",
              "1       1   83807.86              1          0               1   \n",
              "2       8  159660.80              3          1               0   \n",
              "3       1       0.00              2          0               0   \n",
              "4       2  125510.82              1          1               1   \n",
              "\n",
              "   EstimatedSalary  Exited  \n",
              "0        101348.88       1  \n",
              "1        112542.58       0  \n",
              "2        113931.57       1  \n",
              "3         93826.63       0  \n",
              "4         79084.10       0  "
            ],
            "text/html": [
              "\n",
              "  <div id=\"df-253bc740-a9dd-476b-bb58-30ea1693fdc6\">\n",
              "    <div class=\"colab-df-container\">\n",
              "      <div>\n",
              "<style scoped>\n",
              "    .dataframe tbody tr th:only-of-type {\n",
              "        vertical-align: middle;\n",
              "    }\n",
              "\n",
              "    .dataframe tbody tr th {\n",
              "        vertical-align: top;\n",
              "    }\n",
              "\n",
              "    .dataframe thead th {\n",
              "        text-align: right;\n",
              "    }\n",
              "</style>\n",
              "<table border=\"1\" class=\"dataframe\">\n",
              "  <thead>\n",
              "    <tr style=\"text-align: right;\">\n",
              "      <th></th>\n",
              "      <th>RowNumber</th>\n",
              "      <th>CustomerId</th>\n",
              "      <th>Surname</th>\n",
              "      <th>CreditScore</th>\n",
              "      <th>Geography</th>\n",
              "      <th>Gender</th>\n",
              "      <th>Age</th>\n",
              "      <th>Tenure</th>\n",
              "      <th>Balance</th>\n",
              "      <th>NumOfProducts</th>\n",
              "      <th>HasCrCard</th>\n",
              "      <th>IsActiveMember</th>\n",
              "      <th>EstimatedSalary</th>\n",
              "      <th>Exited</th>\n",
              "    </tr>\n",
              "  </thead>\n",
              "  <tbody>\n",
              "    <tr>\n",
              "      <th>0</th>\n",
              "      <td>1</td>\n",
              "      <td>15634602</td>\n",
              "      <td>Hargrave</td>\n",
              "      <td>619</td>\n",
              "      <td>France</td>\n",
              "      <td>Female</td>\n",
              "      <td>42</td>\n",
              "      <td>2</td>\n",
              "      <td>0.00</td>\n",
              "      <td>1</td>\n",
              "      <td>1</td>\n",
              "      <td>1</td>\n",
              "      <td>101348.88</td>\n",
              "      <td>1</td>\n",
              "    </tr>\n",
              "    <tr>\n",
              "      <th>1</th>\n",
              "      <td>2</td>\n",
              "      <td>15647311</td>\n",
              "      <td>Hill</td>\n",
              "      <td>608</td>\n",
              "      <td>Spain</td>\n",
              "      <td>Female</td>\n",
              "      <td>41</td>\n",
              "      <td>1</td>\n",
              "      <td>83807.86</td>\n",
              "      <td>1</td>\n",
              "      <td>0</td>\n",
              "      <td>1</td>\n",
              "      <td>112542.58</td>\n",
              "      <td>0</td>\n",
              "    </tr>\n",
              "    <tr>\n",
              "      <th>2</th>\n",
              "      <td>3</td>\n",
              "      <td>15619304</td>\n",
              "      <td>Onio</td>\n",
              "      <td>502</td>\n",
              "      <td>France</td>\n",
              "      <td>Female</td>\n",
              "      <td>42</td>\n",
              "      <td>8</td>\n",
              "      <td>159660.80</td>\n",
              "      <td>3</td>\n",
              "      <td>1</td>\n",
              "      <td>0</td>\n",
              "      <td>113931.57</td>\n",
              "      <td>1</td>\n",
              "    </tr>\n",
              "    <tr>\n",
              "      <th>3</th>\n",
              "      <td>4</td>\n",
              "      <td>15701354</td>\n",
              "      <td>Boni</td>\n",
              "      <td>699</td>\n",
              "      <td>France</td>\n",
              "      <td>Female</td>\n",
              "      <td>39</td>\n",
              "      <td>1</td>\n",
              "      <td>0.00</td>\n",
              "      <td>2</td>\n",
              "      <td>0</td>\n",
              "      <td>0</td>\n",
              "      <td>93826.63</td>\n",
              "      <td>0</td>\n",
              "    </tr>\n",
              "    <tr>\n",
              "      <th>4</th>\n",
              "      <td>5</td>\n",
              "      <td>15737888</td>\n",
              "      <td>Mitchell</td>\n",
              "      <td>850</td>\n",
              "      <td>Spain</td>\n",
              "      <td>Female</td>\n",
              "      <td>43</td>\n",
              "      <td>2</td>\n",
              "      <td>125510.82</td>\n",
              "      <td>1</td>\n",
              "      <td>1</td>\n",
              "      <td>1</td>\n",
              "      <td>79084.10</td>\n",
              "      <td>0</td>\n",
              "    </tr>\n",
              "  </tbody>\n",
              "</table>\n",
              "</div>\n",
              "      <button class=\"colab-df-convert\" onclick=\"convertToInteractive('df-253bc740-a9dd-476b-bb58-30ea1693fdc6')\"\n",
              "              title=\"Convert this dataframe to an interactive table.\"\n",
              "              style=\"display:none;\">\n",
              "        \n",
              "  <svg xmlns=\"http://www.w3.org/2000/svg\" height=\"24px\"viewBox=\"0 0 24 24\"\n",
              "       width=\"24px\">\n",
              "    <path d=\"M0 0h24v24H0V0z\" fill=\"none\"/>\n",
              "    <path d=\"M18.56 5.44l.94 2.06.94-2.06 2.06-.94-2.06-.94-.94-2.06-.94 2.06-2.06.94zm-11 1L8.5 8.5l.94-2.06 2.06-.94-2.06-.94L8.5 2.5l-.94 2.06-2.06.94zm10 10l.94 2.06.94-2.06 2.06-.94-2.06-.94-.94-2.06-.94 2.06-2.06.94z\"/><path d=\"M17.41 7.96l-1.37-1.37c-.4-.4-.92-.59-1.43-.59-.52 0-1.04.2-1.43.59L10.3 9.45l-7.72 7.72c-.78.78-.78 2.05 0 2.83L4 21.41c.39.39.9.59 1.41.59.51 0 1.02-.2 1.41-.59l7.78-7.78 2.81-2.81c.8-.78.8-2.07 0-2.86zM5.41 20L4 18.59l7.72-7.72 1.47 1.35L5.41 20z\"/>\n",
              "  </svg>\n",
              "      </button>\n",
              "      \n",
              "  <style>\n",
              "    .colab-df-container {\n",
              "      display:flex;\n",
              "      flex-wrap:wrap;\n",
              "      gap: 12px;\n",
              "    }\n",
              "\n",
              "    .colab-df-convert {\n",
              "      background-color: #E8F0FE;\n",
              "      border: none;\n",
              "      border-radius: 50%;\n",
              "      cursor: pointer;\n",
              "      display: none;\n",
              "      fill: #1967D2;\n",
              "      height: 32px;\n",
              "      padding: 0 0 0 0;\n",
              "      width: 32px;\n",
              "    }\n",
              "\n",
              "    .colab-df-convert:hover {\n",
              "      background-color: #E2EBFA;\n",
              "      box-shadow: 0px 1px 2px rgba(60, 64, 67, 0.3), 0px 1px 3px 1px rgba(60, 64, 67, 0.15);\n",
              "      fill: #174EA6;\n",
              "    }\n",
              "\n",
              "    [theme=dark] .colab-df-convert {\n",
              "      background-color: #3B4455;\n",
              "      fill: #D2E3FC;\n",
              "    }\n",
              "\n",
              "    [theme=dark] .colab-df-convert:hover {\n",
              "      background-color: #434B5C;\n",
              "      box-shadow: 0px 1px 3px 1px rgba(0, 0, 0, 0.15);\n",
              "      filter: drop-shadow(0px 1px 2px rgba(0, 0, 0, 0.3));\n",
              "      fill: #FFFFFF;\n",
              "    }\n",
              "  </style>\n",
              "\n",
              "      <script>\n",
              "        const buttonEl =\n",
              "          document.querySelector('#df-253bc740-a9dd-476b-bb58-30ea1693fdc6 button.colab-df-convert');\n",
              "        buttonEl.style.display =\n",
              "          google.colab.kernel.accessAllowed ? 'block' : 'none';\n",
              "\n",
              "        async function convertToInteractive(key) {\n",
              "          const element = document.querySelector('#df-253bc740-a9dd-476b-bb58-30ea1693fdc6');\n",
              "          const dataTable =\n",
              "            await google.colab.kernel.invokeFunction('convertToInteractive',\n",
              "                                                     [key], {});\n",
              "          if (!dataTable) return;\n",
              "\n",
              "          const docLinkHtml = 'Like what you see? Visit the ' +\n",
              "            '<a target=\"_blank\" href=https://colab.research.google.com/notebooks/data_table.ipynb>data table notebook</a>'\n",
              "            + ' to learn more about interactive tables.';\n",
              "          element.innerHTML = '';\n",
              "          dataTable['output_type'] = 'display_data';\n",
              "          await google.colab.output.renderOutput(dataTable, element);\n",
              "          const docLink = document.createElement('div');\n",
              "          docLink.innerHTML = docLinkHtml;\n",
              "          element.appendChild(docLink);\n",
              "        }\n",
              "      </script>\n",
              "    </div>\n",
              "  </div>\n",
              "  "
            ]
          },
          "metadata": {},
          "execution_count": 40
        }
      ]
    },
    {
      "cell_type": "code",
      "source": [
        "# checking for null values in the dataframe\n",
        "data.isnull().values.any()"
      ],
      "metadata": {
        "colab": {
          "base_uri": "https://localhost:8080/"
        },
        "id": "3s2b50DSMNLb",
        "outputId": "459b2f5e-567b-4778-a950-31fd1eb91c29"
      },
      "execution_count": 41,
      "outputs": [
        {
          "output_type": "execute_result",
          "data": {
            "text/plain": [
              "False"
            ]
          },
          "metadata": {},
          "execution_count": 41
        }
      ]
    },
    {
      "cell_type": "code",
      "source": [
        "data['CreditScore'].plot.hist(grid=True, bins=20, rwidth=0.9, color='#607c8e')\n",
        "plt.title('Histogram of CreditScore')\n",
        "plt.xlabel('Credit Score')\n",
        "plt.ylabel('Frequency')"
      ],
      "metadata": {
        "colab": {
          "base_uri": "https://localhost:8080/",
          "height": 312
        },
        "id": "qdleRuIQMS55",
        "outputId": "085321f4-5818-4c05-bd38-4295d3c80103"
      },
      "execution_count": 42,
      "outputs": [
        {
          "output_type": "execute_result",
          "data": {
            "text/plain": [
              "Text(0, 0.5, 'Frequency')"
            ]
          },
          "metadata": {},
          "execution_count": 42
        },
        {
          "output_type": "display_data",
          "data": {
            "text/plain": [
              "<Figure size 432x288 with 1 Axes>"
            ],
            "image/png": "[encoded data removed]"
          },
          "metadata": {
            "needs_background": "light"
          }
        }
      ]
    },
    {
      "cell_type": "code",
      "source": [
        "data['Age'].plot.hist(grid=True, bins=20, rwidth=0.9, color='#607c8e')\n",
        "plt.title('Histogram of Age')\n",
        "plt.xlabel('Age')\n",
        "plt.ylabel('Frequency')"
      ],
      "metadata": {
        "colab": {
          "base_uri": "https://localhost:8080/",
          "height": 312
        },
        "id": "3nuVpJ6oaXMB",
        "outputId": "9285ab26-28e4-41bd-ebdd-fc950ad82149"
      },
      "execution_count": 43,
      "outputs": [
        {
          "output_type": "execute_result",
          "data": {
            "text/plain": [
              "Text(0, 0.5, 'Frequency')"
            ]
          },
          "metadata": {},
          "execution_count": 43
        },
        {
          "output_type": "display_data",
          "data": {
            "text/plain": [
              "<Figure size 432x288 with 1 Axes>"
            ],
            "image/png": "[encoded data removed]"
          },
          "metadata": {
            "needs_background": "light"
          }
        }
      ]
    },
    {
      "cell_type": "code",
      "source": [
        "data['HasCrCard'].plot.hist(grid=True, bins=20, rwidth=0.9, color='#607c8e')"
      ],
      "metadata": {
        "colab": {
          "base_uri": "https://localhost:8080/",
          "height": 282
        },
        "id": "_CIph_-qakRn",
        "outputId": "6415ba44-d6dd-4c5c-fc26-4917d3dffbdc"
      },
      "execution_count": 44,
      "outputs": [
        {
          "output_type": "execute_result",
          "data": {
            "text/plain": [
              "<matplotlib.axes._subplots.AxesSubplot at 0x7f8c94993690>"
            ]
          },
          "metadata": {},
          "execution_count": 44
        },
        {
          "output_type": "display_data",
          "data": {
            "text/plain": [
              "<Figure size 432x288 with 1 Axes>"
            ],
            "image/png": "[encoded data removed]"
          },
          "metadata": {
            "needs_background": "light"
          }
        }
      ]
    },
    {
      "cell_type": "code",
      "source": [
        "data['IsActiveMember'].plot.hist(grid=True, bins=20, rwidth=0.9, color='#607c8e')"
      ],
      "metadata": {
        "colab": {
          "base_uri": "https://localhost:8080/",
          "height": 282
        },
        "id": "MalGJwOWaxbs",
        "outputId": "95ed9b30-b31b-495d-c746-5e4fba784902"
      },
      "execution_count": 45,
      "outputs": [
        {
          "output_type": "execute_result",
          "data": {
            "text/plain": [
              "<matplotlib.axes._subplots.AxesSubplot at 0x7f8c948ae390>"
            ]
          },
          "metadata": {},
          "execution_count": 45
        },
        {
          "output_type": "display_data",
          "data": {
            "text/plain": [
              "<Figure size 432x288 with 1 Axes>"
            ],
            "image/png": "[encoded data removed]"
          },
          "metadata": {
            "needs_background": "light"
          }
        }
      ]
    },
    {
      "cell_type": "code",
      "source": [
        "from sklearn.preprocessing import LabelEncoder"
      ],
      "metadata": {
        "id": "TEnDknPza4EH"
      },
      "execution_count": 46,
      "outputs": []
    },
    {
      "cell_type": "code",
      "source": [
        "# converting string variables to numerical\n",
        "\n",
        "labelencoder = LabelEncoder()\n",
        "data['geography_num'] = labelencoder.fit_transform(data['Geography'])\n",
        "data['gender_num'] = labelencoder.fit_transform(data['Gender'])"
      ],
      "metadata": {
        "id": "65BPftmaqe6Y"
      },
      "execution_count": 47,
      "outputs": []
    },
    {
      "cell_type": "code",
      "source": [
        "data.head()"
      ],
      "metadata": {
        "colab": {
          "base_uri": "https://localhost:8080/",
          "height": 270
        },
        "id": "YBewUY6dqztr",
        "outputId": "53e7f283-e778-4dc4-a95f-53730fabbf2e"
      },
      "execution_count": 48,
      "outputs": [
        {
          "output_type": "execute_result",
          "data": {
            "text/plain": [
              "   RowNumber  CustomerId   Surname  CreditScore Geography  Gender  Age  \\\n",
              "0          1    15634602  Hargrave          619    France  Female   42   \n",
              "1          2    15647311      Hill          608     Spain  Female   41   \n",
              "2          3    15619304      Onio          502    France  Female   42   \n",
              "3          4    15701354      Boni          699    France  Female   39   \n",
              "4          5    15737888  Mitchell          850     Spain  Female   43   \n",
              "\n",
              "   Tenure    Balance  NumOfProducts  HasCrCard  IsActiveMember  \\\n",
              "0       2       0.00              1          1               1   \n",
              "1       1   83807.86              1          0               1   \n",
              "2       8  159660.80              3          1               0   \n",
              "3       1       0.00              2          0               0   \n",
              "4       2  125510.82              1          1               1   \n",
              "\n",
              "   EstimatedSalary  Exited  geography_num  gender_num  \n",
              "0        101348.88       1              0           0  \n",
              "1        112542.58       0              2           0  \n",
              "2        113931.57       1              0           0  \n",
              "3         93826.63       0              0           0  \n",
              "4         79084.10       0              2           0  "
            ],
            "text/html": [
              "\n",
              "  <div id=\"df-cd370a7b-8459-4cc4-b324-9f38e0c168f5\">\n",
              "    <div class=\"colab-df-container\">\n",
              "      <div>\n",
              "<style scoped>\n",
              "    .dataframe tbody tr th:only-of-type {\n",
              "        vertical-align: middle;\n",
              "    }\n",
              "\n",
              "    .dataframe tbody tr th {\n",
              "        vertical-align: top;\n",
              "    }\n",
              "\n",
              "    .dataframe thead th {\n",
              "        text-align: right;\n",
              "    }\n",
              "</style>\n",
              "<table border=\"1\" class=\"dataframe\">\n",
              "  <thead>\n",
              "    <tr style=\"text-align: right;\">\n",
              "      <th></th>\n",
              "      <th>RowNumber</th>\n",
              "      <th>CustomerId</th>\n",
              "      <th>Surname</th>\n",
              "      <th>CreditScore</th>\n",
              "      <th>Geography</th>\n",
              "      <th>Gender</th>\n",
              "      <th>Age</th>\n",
              "      <th>Tenure</th>\n",
              "      <th>Balance</th>\n",
              "      <th>NumOfProducts</th>\n",
              "      <th>HasCrCard</th>\n",
              "      <th>IsActiveMember</th>\n",
              "      <th>EstimatedSalary</th>\n",
              "      <th>Exited</th>\n",
              "      <th>geography_num</th>\n",
              "      <th>gender_num</th>\n",
              "    </tr>\n",
              "  </thead>\n",
              "  <tbody>\n",
              "    <tr>\n",
              "      <th>0</th>\n",
              "      <td>1</td>\n",
              "      <td>15634602</td>\n",
              "      <td>Hargrave</td>\n",
              "      <td>619</td>\n",
              "      <td>France</td>\n",
              "      <td>Female</td>\n",
              "      <td>42</td>\n",
              "      <td>2</td>\n",
              "      <td>0.00</td>\n",
              "      <td>1</td>\n",
              "      <td>1</td>\n",
              "      <td>1</td>\n",
              "      <td>101348.88</td>\n",
              "      <td>1</td>\n",
              "      <td>0</td>\n",
              "      <td>0</td>\n",
              "    </tr>\n",
              "    <tr>\n",
              "      <th>1</th>\n",
              "      <td>2</td>\n",
              "      <td>15647311</td>\n",
              "      <td>Hill</td>\n",
              "      <td>608</td>\n",
              "      <td>Spain</td>\n",
              "      <td>Female</td>\n",
              "      <td>41</td>\n",
              "      <td>1</td>\n",
              "      <td>83807.86</td>\n",
              "      <td>1</td>\n",
              "      <td>0</td>\n",
              "      <td>1</td>\n",
              "      <td>112542.58</td>\n",
              "      <td>0</td>\n",
              "      <td>2</td>\n",
              "      <td>0</td>\n",
              "    </tr>\n",
              "    <tr>\n",
              "      <th>2</th>\n",
              "      <td>3</td>\n",
              "      <td>15619304</td>\n",
              "      <td>Onio</td>\n",
              "      <td>502</td>\n",
              "      <td>France</td>\n",
              "      <td>Female</td>\n",
              "      <td>42</td>\n",
              "      <td>8</td>\n",
              "      <td>159660.80</td>\n",
              "      <td>3</td>\n",
              "      <td>1</td>\n",
              "      <td>0</td>\n",
              "      <td>113931.57</td>\n",
              "      <td>1</td>\n",
              "      <td>0</td>\n",
              "      <td>0</td>\n",
              "    </tr>\n",
              "    <tr>\n",
              "      <th>3</th>\n",
              "      <td>4</td>\n",
              "      <td>15701354</td>\n",
              "      <td>Boni</td>\n",
              "      <td>699</td>\n",
              "      <td>France</td>\n",
              "      <td>Female</td>\n",
              "      <td>39</td>\n",
              "      <td>1</td>\n",
              "      <td>0.00</td>\n",
              "      <td>2</td>\n",
              "      <td>0</td>\n",
              "      <td>0</td>\n",
              "      <td>93826.63</td>\n",
              "      <td>0</td>\n",
              "      <td>0</td>\n",
              "      <td>0</td>\n",
              "    </tr>\n",
              "    <tr>\n",
              "      <th>4</th>\n",
              "      <td>5</td>\n",
              "      <td>15737888</td>\n",
              "      <td>Mitchell</td>\n",
              "      <td>850</td>\n",
              "      <td>Spain</td>\n",
              "      <td>Female</td>\n",
              "      <td>43</td>\n",
              "      <td>2</td>\n",
              "      <td>125510.82</td>\n",
              "      <td>1</td>\n",
              "      <td>1</td>\n",
              "      <td>1</td>\n",
              "      <td>79084.10</td>\n",
              "      <td>0</td>\n",
              "      <td>2</td>\n",
              "      <td>0</td>\n",
              "    </tr>\n",
              "  </tbody>\n",
              "</table>\n",
              "</div>\n",
              "      <button class=\"colab-df-convert\" onclick=\"convertToInteractive('df-cd370a7b-8459-4cc4-b324-9f38e0c168f5')\"\n",
              "              title=\"Convert this dataframe to an interactive table.\"\n",
              "              style=\"display:none;\">\n",
              "        \n",
              "  <svg xmlns=\"http://www.w3.org/2000/svg\" height=\"24px\"viewBox=\"0 0 24 24\"\n",
              "       width=\"24px\">\n",
              "    <path d=\"M0 0h24v24H0V0z\" fill=\"none\"/>\n",
              "    <path d=\"M18.56 5.44l.94 2.06.94-2.06 2.06-.94-2.06-.94-.94-2.06-.94 2.06-2.06.94zm-11 1L8.5 8.5l.94-2.06 2.06-.94-2.06-.94L8.5 2.5l-.94 2.06-2.06.94zm10 10l.94 2.06.94-2.06 2.06-.94-2.06-.94-.94-2.06-.94 2.06-2.06.94z\"/><path d=\"M17.41 7.96l-1.37-1.37c-.4-.4-.92-.59-1.43-.59-.52 0-1.04.2-1.43.59L10.3 9.45l-7.72 7.72c-.78.78-.78 2.05 0 2.83L4 21.41c.39.39.9.59 1.41.59.51 0 1.02-.2 1.41-.59l7.78-7.78 2.81-2.81c.8-.78.8-2.07 0-2.86zM5.41 20L4 18.59l7.72-7.72 1.47 1.35L5.41 20z\"/>\n",
              "  </svg>\n",
              "      </button>\n",
              "      \n",
              "  <style>\n",
              "    .colab-df-container {\n",
              "      display:flex;\n",
              "      flex-wrap:wrap;\n",
              "      gap: 12px;\n",
              "    }\n",
              "\n",
              "    .colab-df-convert {\n",
              "      background-color: #E8F0FE;\n",
              "      border: none;\n",
              "      border-radius: 50%;\n",
              "      cursor: pointer;\n",
              "      display: none;\n",
              "      fill: #1967D2;\n",
              "      height: 32px;\n",
              "      padding: 0 0 0 0;\n",
              "      width: 32px;\n",
              "    }\n",
              "\n",
              "    .colab-df-convert:hover {\n",
              "      background-color: #E2EBFA;\n",
              "      box-shadow: 0px 1px 2px rgba(60, 64, 67, 0.3), 0px 1px 3px 1px rgba(60, 64, 67, 0.15);\n",
              "      fill: #174EA6;\n",
              "    }\n",
              "\n",
              "    [theme=dark] .colab-df-convert {\n",
              "      background-color: #3B4455;\n",
              "      fill: #D2E3FC;\n",
              "    }\n",
              "\n",
              "    [theme=dark] .colab-df-convert:hover {\n",
              "      background-color: #434B5C;\n",
              "      box-shadow: 0px 1px 3px 1px rgba(0, 0, 0, 0.15);\n",
              "      filter: drop-shadow(0px 1px 2px rgba(0, 0, 0, 0.3));\n",
              "      fill: #FFFFFF;\n",
              "    }\n",
              "  </style>\n",
              "\n",
              "      <script>\n",
              "        const buttonEl =\n",
              "          document.querySelector('#df-cd370a7b-8459-4cc4-b324-9f38e0c168f5 button.colab-df-convert');\n",
              "        buttonEl.style.display =\n",
              "          google.colab.kernel.accessAllowed ? 'block' : 'none';\n",
              "\n",
              "        async function convertToInteractive(key) {\n",
              "          const element = document.querySelector('#df-cd370a7b-8459-4cc4-b324-9f38e0c168f5');\n",
              "          const dataTable =\n",
              "            await google.colab.kernel.invokeFunction('convertToInteractive',\n",
              "                                                     [key], {});\n",
              "          if (!dataTable) return;\n",
              "\n",
              "          const docLinkHtml = 'Like what you see? Visit the ' +\n",
              "            '<a target=\"_blank\" href=https://colab.research.google.com/notebooks/data_table.ipynb>data table notebook</a>'\n",
              "            + ' to learn more about interactive tables.';\n",
              "          element.innerHTML = '';\n",
              "          dataTable['output_type'] = 'display_data';\n",
              "          await google.colab.output.renderOutput(dataTable, element);\n",
              "          const docLink = document.createElement('div');\n",
              "          docLink.innerHTML = docLinkHtml;\n",
              "          element.appendChild(docLink);\n",
              "        }\n",
              "      </script>\n",
              "    </div>\n",
              "  </div>\n",
              "  "
            ]
          },
          "metadata": {},
          "execution_count": 48
        }
      ]
    },
    {
      "cell_type": "code",
      "source": [
        "# dropping string variables and irrelevant variables\n",
        "\n",
        "del data['Geography']\n",
        "del data['Gender']\n",
        "del data['Surname']\n",
        "del data['CustomerId']\n",
        "del data['RowNumber']"
      ],
      "metadata": {
        "id": "mpKLUg-Iq5vY"
      },
      "execution_count": 49,
      "outputs": []
    },
    {
      "cell_type": "code",
      "source": [
        "X.head()"
      ],
      "metadata": {
        "colab": {
          "base_uri": "https://localhost:8080/",
          "height": 206
        },
        "id": "CQWYByZarr_s",
        "outputId": "720f015e-f5d4-4a43-f759-5a69fb6ba05e"
      },
      "execution_count": 64,
      "outputs": [
        {
          "output_type": "execute_result",
          "data": {
            "text/plain": [
              "   CreditScore  Age  Tenure    Balance  NumOfProducts  HasCrCard  \\\n",
              "0          619   42       2       0.00              1          1   \n",
              "1          608   41       1   83807.86              1          0   \n",
              "2          502   42       8  159660.80              3          1   \n",
              "3          699   39       1       0.00              2          0   \n",
              "4          850   43       2  125510.82              1          1   \n",
              "\n",
              "   IsActiveMember  EstimatedSalary  geography_num  gender_num  \n",
              "0               1        101348.88              0           0  \n",
              "1               1        112542.58              2           0  \n",
              "2               0        113931.57              0           0  \n",
              "3               0         93826.63              0           0  \n",
              "4               1         79084.10              2           0  "
            ],
            "text/html": [
              "\n",
              "  <div id=\"df-990c45c5-1952-4f67-93a7-fdcdaccd4298\">\n",
              "    <div class=\"colab-df-container\">\n",
              "      <div>\n",
              "<style scoped>\n",
              "    .dataframe tbody tr th:only-of-type {\n",
              "        vertical-align: middle;\n",
              "    }\n",
              "\n",
              "    .dataframe tbody tr th {\n",
              "        vertical-align: top;\n",
              "    }\n",
              "\n",
              "    .dataframe thead th {\n",
              "        text-align: right;\n",
              "    }\n",
              "</style>\n",
              "<table border=\"1\" class=\"dataframe\">\n",
              "  <thead>\n",
              "    <tr style=\"text-align: right;\">\n",
              "      <th></th>\n",
              "      <th>CreditScore</th>\n",
              "      <th>Age</th>\n",
              "      <th>Tenure</th>\n",
              "      <th>Balance</th>\n",
              "      <th>NumOfProducts</th>\n",
              "      <th>HasCrCard</th>\n",
              "      <th>IsActiveMember</th>\n",
              "      <th>EstimatedSalary</th>\n",
              "      <th>geography_num</th>\n",
              "      <th>gender_num</th>\n",
              "    </tr>\n",
              "  </thead>\n",
              "  <tbody>\n",
              "    <tr>\n",
              "      <th>0</th>\n",
              "      <td>619</td>\n",
              "      <td>42</td>\n",
              "      <td>2</td>\n",
              "      <td>0.00</td>\n",
              "      <td>1</td>\n",
              "      <td>1</td>\n",
              "      <td>1</td>\n",
              "      <td>101348.88</td>\n",
              "      <td>0</td>\n",
              "      <td>0</td>\n",
              "    </tr>\n",
              "    <tr>\n",
              "      <th>1</th>\n",
              "      <td>608</td>\n",
              "      <td>41</td>\n",
              "      <td>1</td>\n",
              "      <td>83807.86</td>\n",
              "      <td>1</td>\n",
              "      <td>0</td>\n",
              "      <td>1</td>\n",
              "      <td>112542.58</td>\n",
              "      <td>2</td>\n",
              "      <td>0</td>\n",
              "    </tr>\n",
              "    <tr>\n",
              "      <th>2</th>\n",
              "      <td>502</td>\n",
              "      <td>42</td>\n",
              "      <td>8</td>\n",
              "      <td>159660.80</td>\n",
              "      <td>3</td>\n",
              "      <td>1</td>\n",
              "      <td>0</td>\n",
              "      <td>113931.57</td>\n",
              "      <td>0</td>\n",
              "      <td>0</td>\n",
              "    </tr>\n",
              "    <tr>\n",
              "      <th>3</th>\n",
              "      <td>699</td>\n",
              "      <td>39</td>\n",
              "      <td>1</td>\n",
              "      <td>0.00</td>\n",
              "      <td>2</td>\n",
              "      <td>0</td>\n",
              "      <td>0</td>\n",
              "      <td>93826.63</td>\n",
              "      <td>0</td>\n",
              "      <td>0</td>\n",
              "    </tr>\n",
              "    <tr>\n",
              "      <th>4</th>\n",
              "      <td>850</td>\n",
              "      <td>43</td>\n",
              "      <td>2</td>\n",
              "      <td>125510.82</td>\n",
              "      <td>1</td>\n",
              "      <td>1</td>\n",
              "      <td>1</td>\n",
              "      <td>79084.10</td>\n",
              "      <td>2</td>\n",
              "      <td>0</td>\n",
              "    </tr>\n",
              "  </tbody>\n",
              "</table>\n",
              "</div>\n",
              "      <button class=\"colab-df-convert\" onclick=\"convertToInteractive('df-990c45c5-1952-4f67-93a7-fdcdaccd4298')\"\n",
              "              title=\"Convert this dataframe to an interactive table.\"\n",
              "              style=\"display:none;\">\n",
              "        \n",
              "  <svg xmlns=\"http://www.w3.org/2000/svg\" height=\"24px\"viewBox=\"0 0 24 24\"\n",
              "       width=\"24px\">\n",
              "    <path d=\"M0 0h24v24H0V0z\" fill=\"none\"/>\n",
              "    <path d=\"M18.56 5.44l.94 2.06.94-2.06 2.06-.94-2.06-.94-.94-2.06-.94 2.06-2.06.94zm-11 1L8.5 8.5l.94-2.06 2.06-.94-2.06-.94L8.5 2.5l-.94 2.06-2.06.94zm10 10l.94 2.06.94-2.06 2.06-.94-2.06-.94-.94-2.06-.94 2.06-2.06.94z\"/><path d=\"M17.41 7.96l-1.37-1.37c-.4-.4-.92-.59-1.43-.59-.52 0-1.04.2-1.43.59L10.3 9.45l-7.72 7.72c-.78.78-.78 2.05 0 2.83L4 21.41c.39.39.9.59 1.41.59.51 0 1.02-.2 1.41-.59l7.78-7.78 2.81-2.81c.8-.78.8-2.07 0-2.86zM5.41 20L4 18.59l7.72-7.72 1.47 1.35L5.41 20z\"/>\n",
              "  </svg>\n",
              "      </button>\n",
              "      \n",
              "  <style>\n",
              "    .colab-df-container {\n",
              "      display:flex;\n",
              "      flex-wrap:wrap;\n",
              "      gap: 12px;\n",
              "    }\n",
              "\n",
              "    .colab-df-convert {\n",
              "      background-color: #E8F0FE;\n",
              "      border: none;\n",
              "      border-radius: 50%;\n",
              "      cursor: pointer;\n",
              "      display: none;\n",
              "      fill: #1967D2;\n",
              "      height: 32px;\n",
              "      padding: 0 0 0 0;\n",
              "      width: 32px;\n",
              "    }\n",
              "\n",
              "    .colab-df-convert:hover {\n",
              "      background-color: #E2EBFA;\n",
              "      box-shadow: 0px 1px 2px rgba(60, 64, 67, 0.3), 0px 1px 3px 1px rgba(60, 64, 67, 0.15);\n",
              "      fill: #174EA6;\n",
              "    }\n",
              "\n",
              "    [theme=dark] .colab-df-convert {\n",
              "      background-color: #3B4455;\n",
              "      fill: #D2E3FC;\n",
              "    }\n",
              "\n",
              "    [theme=dark] .colab-df-convert:hover {\n",
              "      background-color: #434B5C;\n",
              "      box-shadow: 0px 1px 3px 1px rgba(0, 0, 0, 0.15);\n",
              "      filter: drop-shadow(0px 1px 2px rgba(0, 0, 0, 0.3));\n",
              "      fill: #FFFFFF;\n",
              "    }\n",
              "  </style>\n",
              "\n",
              "      <script>\n",
              "        const buttonEl =\n",
              "          document.querySelector('#df-990c45c5-1952-4f67-93a7-fdcdaccd4298 button.colab-df-convert');\n",
              "        buttonEl.style.display =\n",
              "          google.colab.kernel.accessAllowed ? 'block' : 'none';\n",
              "\n",
              "        async function convertToInteractive(key) {\n",
              "          const element = document.querySelector('#df-990c45c5-1952-4f67-93a7-fdcdaccd4298');\n",
              "          const dataTable =\n",
              "            await google.colab.kernel.invokeFunction('convertToInteractive',\n",
              "                                                     [key], {});\n",
              "          if (!dataTable) return;\n",
              "\n",
              "          const docLinkHtml = 'Like what you see? Visit the ' +\n",
              "            '<a target=\"_blank\" href=https://colab.research.google.com/notebooks/data_table.ipynb>data table notebook</a>'\n",
              "            + ' to learn more about interactive tables.';\n",
              "          element.innerHTML = '';\n",
              "          dataTable['output_type'] = 'display_data';\n",
              "          await google.colab.output.renderOutput(dataTable, element);\n",
              "          const docLink = document.createElement('div');\n",
              "          docLink.innerHTML = docLinkHtml;\n",
              "          element.appendChild(docLink);\n",
              "        }\n",
              "      </script>\n",
              "    </div>\n",
              "  </div>\n",
              "  "
            ]
          },
          "metadata": {},
          "execution_count": 64
        }
      ]
    },
    {
      "cell_type": "code",
      "source": [
        "# separating predictor and response variables\n",
        "\n",
        "Y = data[['Exited']]\n",
        "X = data[['CreditScore', 'Age', 'Tenure', 'Balance', 'NumOfProducts', 'HasCrCard', 'IsActiveMember', \n",
        "          'EstimatedSalary', 'geography_num', 'gender_num']]"
      ],
      "metadata": {
        "id": "tvsY9Ee6vlmN"
      },
      "execution_count": 65,
      "outputs": []
    },
    {
      "cell_type": "code",
      "source": [
        "# splitting data into train and test sets\n",
        "\n",
        "from sklearn.model_selection import train_test_split\n",
        "\n",
        "x_train, x_test, y_train, y_test = train_test_split(X, Y, test_size = 0.3, random_state = 0)"
      ],
      "metadata": {
        "id": "2MRAsZOur5_F"
      },
      "execution_count": 66,
      "outputs": []
    },
    {
      "cell_type": "code",
      "source": [
        "# scaling the predictor variables\n",
        "\n",
        "from sklearn.preprocessing import StandardScaler\n",
        "\n",
        "sc = StandardScaler()\n",
        "x_train = sc.fit_transform(x_train)\n",
        "x_test = sc.fit_transform(x_test)"
      ],
      "metadata": {
        "id": "PTua-d4MwmQv"
      },
      "execution_count": 67,
      "outputs": []
    },
    {
      "cell_type": "code",
      "source": [
        "# importing keras libraries\n",
        "\n",
        "from keras.models import Sequential\n",
        "from keras.layers import Dense\n",
        "from keras.layers import LeakyReLU, ReLU, ELU\n",
        "from keras.layers import Dropout"
      ],
      "metadata": {
        "id": "0laBGfIGxlfT"
      },
      "execution_count": 68,
      "outputs": []
    },
    {
      "cell_type": "code",
      "source": [
        "# initializing ANN\n",
        "\n",
        "classifier = Sequential()\n",
        "\n",
        "classifier.add(Dense(units = 6, kernel_initializer = 'he_uniform', activation = 'relu', input_dim = 10))\n",
        "\n",
        "classifier.add(Dense(units = 6, kernel_initializer = 'he_uniform', activation = 'relu'))\n",
        "\n",
        "classifier.add(Dense(units = 1, kernel_initializer = 'glorot_uniform', activation = 'sigmoid'))\n",
        "\n",
        "classifier.compile(optimizer = 'Adamax', loss = 'binary_crossentropy', metrics = ['accuracy'])"
      ],
      "metadata": {
        "id": "nem7YLtT2Xfm"
      },
      "execution_count": 69,
      "outputs": []
    },
    {
      "cell_type": "code",
      "source": [
        "classifier.summary()"
      ],
      "metadata": {
        "colab": {
          "base_uri": "https://localhost:8080/"
        },
        "id": "Rb2ry0ZZ4cd8",
        "outputId": "9be3b387-c237-4e02-9114-61eb59919ce0"
      },
      "execution_count": 70,
      "outputs": [
        {
          "output_type": "stream",
          "name": "stdout",
          "text": [
            "Model: \"sequential_2\"\n",
            "_________________________________________________________________\n",
            " Layer (type)                Output Shape              Param #   \n",
            "=================================================================\n",
            " dense_5 (Dense)             (None, 6)                 66        \n",
            "                                                                 \n",
            " dense_6 (Dense)             (None, 6)                 42        \n",
            "                                                                 \n",
            " dense_7 (Dense)             (None, 1)                 7         \n",
            "                                                                 \n",
            "=================================================================\n",
            "Total params: 115\n",
            "Trainable params: 115\n",
            "Non-trainable params: 0\n",
            "_________________________________________________________________\n"
          ]
        }
      ]
    },
    {
      "cell_type": "code",
      "source": [
        "# fitting the ANN to the training dataset\n",
        "\n",
        "nn_model = classifier.fit(x_train, y_train, validation_split = 0.2, batch_size = 10, epochs = 100)"
      ],
      "metadata": {
        "colab": {
          "base_uri": "https://localhost:8080/"
        },
        "id": "de12IC7z4lOp",
        "outputId": "861eb000-b155-4496-8385-b04df930711e"
      },
      "execution_count": 71,
      "outputs": [
        {
          "output_type": "stream",
          "name": "stdout",
          "text": [
            "Epoch 1/100\n",
            "560/560 [==============================] - 2s 2ms/step - loss: 0.7027 - accuracy: 0.5779 - val_loss: 0.5584 - val_accuracy: 0.7971\n",
            "Epoch 2/100\n",
            "560/560 [==============================] - 1s 2ms/step - loss: 0.5288 - accuracy: 0.7962 - val_loss: 0.5114 - val_accuracy: 0.8000\n",
            "Epoch 3/100\n",
            "560/560 [==============================] - 1s 2ms/step - loss: 0.5035 - accuracy: 0.7971 - val_loss: 0.4957 - val_accuracy: 0.8000\n",
            "Epoch 4/100\n",
            "560/560 [==============================] - 1s 2ms/step - loss: 0.4903 - accuracy: 0.7971 - val_loss: 0.4843 - val_accuracy: 0.8000\n",
            "Epoch 5/100\n",
            "560/560 [==============================] - 1s 2ms/step - loss: 0.4799 - accuracy: 0.7971 - val_loss: 0.4759 - val_accuracy: 0.8000\n",
            "Epoch 6/100\n",
            "560/560 [==============================] - 1s 2ms/step - loss: 0.4716 - accuracy: 0.7973 - val_loss: 0.4685 - val_accuracy: 0.8000\n",
            "Epoch 7/100\n",
            "560/560 [==============================] - 1s 2ms/step - loss: 0.4642 - accuracy: 0.7975 - val_loss: 0.4616 - val_accuracy: 0.7993\n",
            "Epoch 8/100\n",
            "560/560 [==============================] - 1s 2ms/step - loss: 0.4572 - accuracy: 0.7984 - val_loss: 0.4551 - val_accuracy: 0.8007\n",
            "Epoch 9/100\n",
            "560/560 [==============================] - 1s 2ms/step - loss: 0.4504 - accuracy: 0.7986 - val_loss: 0.4488 - val_accuracy: 0.8029\n",
            "Epoch 10/100\n",
            "560/560 [==============================] - 1s 2ms/step - loss: 0.4439 - accuracy: 0.7998 - val_loss: 0.4433 - val_accuracy: 0.8071\n",
            "Epoch 11/100\n",
            "560/560 [==============================] - 1s 2ms/step - loss: 0.4378 - accuracy: 0.8021 - val_loss: 0.4381 - val_accuracy: 0.8079\n",
            "Epoch 12/100\n",
            "560/560 [==============================] - 1s 2ms/step - loss: 0.4323 - accuracy: 0.8073 - val_loss: 0.4337 - val_accuracy: 0.8107\n",
            "Epoch 13/100\n",
            "560/560 [==============================] - 1s 2ms/step - loss: 0.4277 - accuracy: 0.8095 - val_loss: 0.4299 - val_accuracy: 0.8121\n",
            "Epoch 14/100\n",
            "560/560 [==============================] - 1s 2ms/step - loss: 0.4235 - accuracy: 0.8132 - val_loss: 0.4266 - val_accuracy: 0.8129\n",
            "Epoch 15/100\n",
            "560/560 [==============================] - 1s 2ms/step - loss: 0.4202 - accuracy: 0.8152 - val_loss: 0.4234 - val_accuracy: 0.8143\n",
            "Epoch 16/100\n",
            "560/560 [==============================] - 1s 2ms/step - loss: 0.4172 - accuracy: 0.8180 - val_loss: 0.4210 - val_accuracy: 0.8150\n",
            "Epoch 17/100\n",
            "560/560 [==============================] - 1s 2ms/step - loss: 0.4144 - accuracy: 0.8218 - val_loss: 0.4181 - val_accuracy: 0.8186\n",
            "Epoch 18/100\n",
            "560/560 [==============================] - 1s 2ms/step - loss: 0.4119 - accuracy: 0.8255 - val_loss: 0.4154 - val_accuracy: 0.8179\n",
            "Epoch 19/100\n",
            "560/560 [==============================] - 1s 2ms/step - loss: 0.4091 - accuracy: 0.8275 - val_loss: 0.4127 - val_accuracy: 0.8200\n",
            "Epoch 20/100\n",
            "560/560 [==============================] - 1s 2ms/step - loss: 0.4065 - accuracy: 0.8288 - val_loss: 0.4101 - val_accuracy: 0.8229\n",
            "Epoch 21/100\n",
            "560/560 [==============================] - 1s 2ms/step - loss: 0.4040 - accuracy: 0.8291 - val_loss: 0.4076 - val_accuracy: 0.8243\n",
            "Epoch 22/100\n",
            "560/560 [==============================] - 2s 3ms/step - loss: 0.4017 - accuracy: 0.8313 - val_loss: 0.4052 - val_accuracy: 0.8300\n",
            "Epoch 23/100\n",
            "560/560 [==============================] - 1s 2ms/step - loss: 0.3996 - accuracy: 0.8320 - val_loss: 0.4029 - val_accuracy: 0.8293\n",
            "Epoch 24/100\n",
            "560/560 [==============================] - 1s 2ms/step - loss: 0.3975 - accuracy: 0.8323 - val_loss: 0.4005 - val_accuracy: 0.8300\n",
            "Epoch 25/100\n",
            "560/560 [==============================] - 1s 2ms/step - loss: 0.3956 - accuracy: 0.8339 - val_loss: 0.3984 - val_accuracy: 0.8321\n",
            "Epoch 26/100\n",
            "560/560 [==============================] - 2s 3ms/step - loss: 0.3935 - accuracy: 0.8343 - val_loss: 0.3957 - val_accuracy: 0.8321\n",
            "Epoch 27/100\n",
            "560/560 [==============================] - 1s 2ms/step - loss: 0.3913 - accuracy: 0.8357 - val_loss: 0.3932 - val_accuracy: 0.8350\n",
            "Epoch 28/100\n",
            "560/560 [==============================] - 1s 2ms/step - loss: 0.3892 - accuracy: 0.8380 - val_loss: 0.3910 - val_accuracy: 0.8357\n",
            "Epoch 29/100\n",
            "560/560 [==============================] - 1s 2ms/step - loss: 0.3869 - accuracy: 0.8391 - val_loss: 0.3887 - val_accuracy: 0.8379\n",
            "Epoch 30/100\n",
            "560/560 [==============================] - 1s 2ms/step - loss: 0.3845 - accuracy: 0.8407 - val_loss: 0.3861 - val_accuracy: 0.8393\n",
            "Epoch 31/100\n",
            "560/560 [==============================] - 1s 2ms/step - loss: 0.3819 - accuracy: 0.8409 - val_loss: 0.3837 - val_accuracy: 0.8407\n",
            "Epoch 32/100\n",
            "560/560 [==============================] - 1s 2ms/step - loss: 0.3794 - accuracy: 0.8423 - val_loss: 0.3813 - val_accuracy: 0.8407\n",
            "Epoch 33/100\n",
            "560/560 [==============================] - 1s 2ms/step - loss: 0.3771 - accuracy: 0.8436 - val_loss: 0.3793 - val_accuracy: 0.8436\n",
            "Epoch 34/100\n",
            "560/560 [==============================] - 1s 2ms/step - loss: 0.3750 - accuracy: 0.8448 - val_loss: 0.3776 - val_accuracy: 0.8457\n",
            "Epoch 35/100\n",
            "560/560 [==============================] - 1s 2ms/step - loss: 0.3730 - accuracy: 0.8468 - val_loss: 0.3755 - val_accuracy: 0.8464\n",
            "Epoch 36/100\n",
            "560/560 [==============================] - 1s 2ms/step - loss: 0.3711 - accuracy: 0.8471 - val_loss: 0.3742 - val_accuracy: 0.8471\n",
            "Epoch 37/100\n",
            "560/560 [==============================] - 1s 2ms/step - loss: 0.3693 - accuracy: 0.8480 - val_loss: 0.3726 - val_accuracy: 0.8464\n",
            "Epoch 38/100\n",
            "560/560 [==============================] - 1s 2ms/step - loss: 0.3677 - accuracy: 0.8475 - val_loss: 0.3715 - val_accuracy: 0.8471\n",
            "Epoch 39/100\n",
            "560/560 [==============================] - 1s 2ms/step - loss: 0.3663 - accuracy: 0.8491 - val_loss: 0.3703 - val_accuracy: 0.8493\n",
            "Epoch 40/100\n",
            "560/560 [==============================] - 1s 2ms/step - loss: 0.3649 - accuracy: 0.8502 - val_loss: 0.3694 - val_accuracy: 0.8493\n",
            "Epoch 41/100\n",
            "560/560 [==============================] - 1s 2ms/step - loss: 0.3639 - accuracy: 0.8505 - val_loss: 0.3685 - val_accuracy: 0.8486\n",
            "Epoch 42/100\n",
            "560/560 [==============================] - 1s 2ms/step - loss: 0.3625 - accuracy: 0.8505 - val_loss: 0.3675 - val_accuracy: 0.8500\n",
            "Epoch 43/100\n",
            "560/560 [==============================] - 1s 2ms/step - loss: 0.3614 - accuracy: 0.8509 - val_loss: 0.3667 - val_accuracy: 0.8493\n",
            "Epoch 44/100\n",
            "560/560 [==============================] - 1s 2ms/step - loss: 0.3604 - accuracy: 0.8521 - val_loss: 0.3659 - val_accuracy: 0.8507\n",
            "Epoch 45/100\n",
            "560/560 [==============================] - 1s 2ms/step - loss: 0.3596 - accuracy: 0.8536 - val_loss: 0.3651 - val_accuracy: 0.8521\n",
            "Epoch 46/100\n",
            "560/560 [==============================] - 1s 2ms/step - loss: 0.3585 - accuracy: 0.8537 - val_loss: 0.3645 - val_accuracy: 0.8514\n",
            "Epoch 47/100\n",
            "560/560 [==============================] - 1s 2ms/step - loss: 0.3576 - accuracy: 0.8539 - val_loss: 0.3639 - val_accuracy: 0.8507\n",
            "Epoch 48/100\n",
            "560/560 [==============================] - 1s 2ms/step - loss: 0.3568 - accuracy: 0.8541 - val_loss: 0.3633 - val_accuracy: 0.8529\n",
            "Epoch 49/100\n",
            "560/560 [==============================] - 1s 2ms/step - loss: 0.3561 - accuracy: 0.8548 - val_loss: 0.3629 - val_accuracy: 0.8521\n",
            "Epoch 50/100\n",
            "560/560 [==============================] - 1s 2ms/step - loss: 0.3553 - accuracy: 0.8550 - val_loss: 0.3625 - val_accuracy: 0.8536\n",
            "Epoch 51/100\n",
            "560/560 [==============================] - 1s 2ms/step - loss: 0.3547 - accuracy: 0.8541 - val_loss: 0.3621 - val_accuracy: 0.8521\n",
            "Epoch 52/100\n",
            "560/560 [==============================] - 1s 2ms/step - loss: 0.3541 - accuracy: 0.8550 - val_loss: 0.3620 - val_accuracy: 0.8536\n",
            "Epoch 53/100\n",
            "560/560 [==============================] - 1s 2ms/step - loss: 0.3538 - accuracy: 0.8566 - val_loss: 0.3617 - val_accuracy: 0.8543\n",
            "Epoch 54/100\n",
            "560/560 [==============================] - 1s 2ms/step - loss: 0.3532 - accuracy: 0.8557 - val_loss: 0.3613 - val_accuracy: 0.8543\n",
            "Epoch 55/100\n",
            "560/560 [==============================] - 1s 2ms/step - loss: 0.3525 - accuracy: 0.8568 - val_loss: 0.3613 - val_accuracy: 0.8536\n",
            "Epoch 56/100\n",
            "560/560 [==============================] - 1s 2ms/step - loss: 0.3524 - accuracy: 0.8548 - val_loss: 0.3608 - val_accuracy: 0.8550\n",
            "Epoch 57/100\n",
            "560/560 [==============================] - 1s 2ms/step - loss: 0.3519 - accuracy: 0.8564 - val_loss: 0.3606 - val_accuracy: 0.8543\n",
            "Epoch 58/100\n",
            "560/560 [==============================] - 1s 2ms/step - loss: 0.3514 - accuracy: 0.8564 - val_loss: 0.3606 - val_accuracy: 0.8529\n",
            "Epoch 59/100\n",
            "560/560 [==============================] - 1s 2ms/step - loss: 0.3511 - accuracy: 0.8579 - val_loss: 0.3604 - val_accuracy: 0.8536\n",
            "Epoch 60/100\n",
            "560/560 [==============================] - 1s 2ms/step - loss: 0.3507 - accuracy: 0.8577 - val_loss: 0.3604 - val_accuracy: 0.8543\n",
            "Epoch 61/100\n",
            "560/560 [==============================] - 1s 2ms/step - loss: 0.3504 - accuracy: 0.8573 - val_loss: 0.3601 - val_accuracy: 0.8550\n",
            "Epoch 62/100\n",
            "560/560 [==============================] - 1s 2ms/step - loss: 0.3503 - accuracy: 0.8573 - val_loss: 0.3604 - val_accuracy: 0.8557\n",
            "Epoch 63/100\n",
            "560/560 [==============================] - 1s 2ms/step - loss: 0.3498 - accuracy: 0.8571 - val_loss: 0.3601 - val_accuracy: 0.8571\n",
            "Epoch 64/100\n",
            "560/560 [==============================] - 1s 2ms/step - loss: 0.3497 - accuracy: 0.8579 - val_loss: 0.3601 - val_accuracy: 0.8564\n",
            "Epoch 65/100\n",
            "560/560 [==============================] - 1s 2ms/step - loss: 0.3495 - accuracy: 0.8580 - val_loss: 0.3599 - val_accuracy: 0.8557\n",
            "Epoch 66/100\n",
            "560/560 [==============================] - 1s 2ms/step - loss: 0.3494 - accuracy: 0.8577 - val_loss: 0.3598 - val_accuracy: 0.8550\n",
            "Epoch 67/100\n",
            "560/560 [==============================] - 1s 2ms/step - loss: 0.3491 - accuracy: 0.8584 - val_loss: 0.3597 - val_accuracy: 0.8543\n",
            "Epoch 68/100\n",
            "560/560 [==============================] - 1s 2ms/step - loss: 0.3488 - accuracy: 0.8571 - val_loss: 0.3598 - val_accuracy: 0.8564\n",
            "Epoch 69/100\n",
            "560/560 [==============================] - 1s 2ms/step - loss: 0.3488 - accuracy: 0.8570 - val_loss: 0.3596 - val_accuracy: 0.8543\n",
            "Epoch 70/100\n",
            "560/560 [==============================] - 1s 2ms/step - loss: 0.3486 - accuracy: 0.8587 - val_loss: 0.3599 - val_accuracy: 0.8550\n",
            "Epoch 71/100\n",
            "560/560 [==============================] - 1s 2ms/step - loss: 0.3481 - accuracy: 0.8587 - val_loss: 0.3591 - val_accuracy: 0.8536\n",
            "Epoch 72/100\n",
            "560/560 [==============================] - 1s 2ms/step - loss: 0.3482 - accuracy: 0.8587 - val_loss: 0.3592 - val_accuracy: 0.8557\n",
            "Epoch 73/100\n",
            "560/560 [==============================] - 1s 2ms/step - loss: 0.3478 - accuracy: 0.8584 - val_loss: 0.3591 - val_accuracy: 0.8536\n",
            "Epoch 74/100\n",
            "560/560 [==============================] - 1s 2ms/step - loss: 0.3478 - accuracy: 0.8582 - val_loss: 0.3594 - val_accuracy: 0.8550\n",
            "Epoch 75/100\n",
            "560/560 [==============================] - 1s 2ms/step - loss: 0.3477 - accuracy: 0.8580 - val_loss: 0.3589 - val_accuracy: 0.8564\n",
            "Epoch 76/100\n",
            "560/560 [==============================] - 1s 2ms/step - loss: 0.3475 - accuracy: 0.8586 - val_loss: 0.3589 - val_accuracy: 0.8557\n",
            "Epoch 77/100\n",
            "560/560 [==============================] - 1s 2ms/step - loss: 0.3473 - accuracy: 0.8596 - val_loss: 0.3587 - val_accuracy: 0.8543\n",
            "Epoch 78/100\n",
            "560/560 [==============================] - 1s 2ms/step - loss: 0.3471 - accuracy: 0.8598 - val_loss: 0.3590 - val_accuracy: 0.8579\n",
            "Epoch 79/100\n",
            "560/560 [==============================] - 1s 2ms/step - loss: 0.3470 - accuracy: 0.8595 - val_loss: 0.3587 - val_accuracy: 0.8521\n",
            "Epoch 80/100\n",
            "560/560 [==============================] - 1s 2ms/step - loss: 0.3470 - accuracy: 0.8612 - val_loss: 0.3586 - val_accuracy: 0.8536\n",
            "Epoch 81/100\n",
            "560/560 [==============================] - 1s 2ms/step - loss: 0.3468 - accuracy: 0.8614 - val_loss: 0.3586 - val_accuracy: 0.8550\n",
            "Epoch 82/100\n",
            "560/560 [==============================] - 1s 2ms/step - loss: 0.3466 - accuracy: 0.8605 - val_loss: 0.3582 - val_accuracy: 0.8550\n",
            "Epoch 83/100\n",
            "560/560 [==============================] - 1s 2ms/step - loss: 0.3465 - accuracy: 0.8598 - val_loss: 0.3579 - val_accuracy: 0.8550\n",
            "Epoch 84/100\n",
            "560/560 [==============================] - 1s 2ms/step - loss: 0.3464 - accuracy: 0.8605 - val_loss: 0.3578 - val_accuracy: 0.8550\n",
            "Epoch 85/100\n",
            "560/560 [==============================] - 1s 2ms/step - loss: 0.3462 - accuracy: 0.8602 - val_loss: 0.3577 - val_accuracy: 0.8550\n",
            "Epoch 86/100\n",
            "560/560 [==============================] - 1s 2ms/step - loss: 0.3461 - accuracy: 0.8602 - val_loss: 0.3578 - val_accuracy: 0.8543\n",
            "Epoch 87/100\n",
            "560/560 [==============================] - 1s 2ms/step - loss: 0.3460 - accuracy: 0.8618 - val_loss: 0.3576 - val_accuracy: 0.8557\n",
            "Epoch 88/100\n",
            "560/560 [==============================] - 1s 2ms/step - loss: 0.3458 - accuracy: 0.8607 - val_loss: 0.3576 - val_accuracy: 0.8557\n",
            "Epoch 89/100\n",
            "560/560 [==============================] - 1s 2ms/step - loss: 0.3456 - accuracy: 0.8607 - val_loss: 0.3573 - val_accuracy: 0.8564\n",
            "Epoch 90/100\n",
            "560/560 [==============================] - 1s 2ms/step - loss: 0.3455 - accuracy: 0.8591 - val_loss: 0.3569 - val_accuracy: 0.8564\n",
            "Epoch 91/100\n",
            "560/560 [==============================] - 1s 2ms/step - loss: 0.3454 - accuracy: 0.8605 - val_loss: 0.3569 - val_accuracy: 0.8579\n",
            "Epoch 92/100\n",
            "560/560 [==============================] - 1s 2ms/step - loss: 0.3451 - accuracy: 0.8595 - val_loss: 0.3565 - val_accuracy: 0.8529\n",
            "Epoch 93/100\n",
            "560/560 [==============================] - 1s 2ms/step - loss: 0.3451 - accuracy: 0.8593 - val_loss: 0.3564 - val_accuracy: 0.8543\n",
            "Epoch 94/100\n",
            "560/560 [==============================] - 1s 2ms/step - loss: 0.3450 - accuracy: 0.8596 - val_loss: 0.3564 - val_accuracy: 0.8564\n",
            "Epoch 95/100\n",
            "560/560 [==============================] - 1s 2ms/step - loss: 0.3448 - accuracy: 0.8595 - val_loss: 0.3564 - val_accuracy: 0.8557\n",
            "Epoch 96/100\n",
            "560/560 [==============================] - 1s 2ms/step - loss: 0.3446 - accuracy: 0.8604 - val_loss: 0.3559 - val_accuracy: 0.8536\n",
            "Epoch 97/100\n",
            "560/560 [==============================] - 1s 2ms/step - loss: 0.3444 - accuracy: 0.8609 - val_loss: 0.3558 - val_accuracy: 0.8564\n",
            "Epoch 98/100\n",
            "560/560 [==============================] - 1s 2ms/step - loss: 0.3444 - accuracy: 0.8607 - val_loss: 0.3556 - val_accuracy: 0.8564\n",
            "Epoch 99/100\n",
            "560/560 [==============================] - 1s 2ms/step - loss: 0.3443 - accuracy: 0.8598 - val_loss: 0.3557 - val_accuracy: 0.8564\n",
            "Epoch 100/100\n",
            "560/560 [==============================] - 1s 2ms/step - loss: 0.3442 - accuracy: 0.8602 - val_loss: 0.3559 - val_accuracy: 0.8550\n"
          ]
        }
      ]
    },
    {
      "cell_type": "code",
      "source": [
        "# visualizing accuracy\n",
        "\n",
        "plt.plot(nn_model.history['accuracy'])\n",
        "plt.plot(nn_model.history['val_accuracy'])\n",
        "plt.title('model accuracy')\n",
        "plt.ylabel('accuracy')\n",
        "plt.xlabel('epochs')\n",
        "plt.legend(['train', 'test'], loc = 'upper left')\n",
        "plt.show()"
      ],
      "metadata": {
        "colab": {
          "base_uri": "https://localhost:8080/",
          "height": 295
        },
        "id": "pM5sQ3P0CgAE",
        "outputId": "bbc18586-a8b5-47fd-8522-c7dbba31ac03"
      },
      "execution_count": 72,
      "outputs": [
        {
          "output_type": "display_data",
          "data": {
            "text/plain": [
              "<Figure size 432x288 with 1 Axes>"
            ],
            "image/png": "[encoded data removed]"
          },
          "metadata": {
            "needs_background": "light"
          }
        }
      ]
    },
    {
      "cell_type": "code",
      "source": [
        "# predictions on test dataset\n",
        "\n",
        "y_pred = classifier.predict(x_test)\n",
        "y_pred = (y_pred > 0.5)"
      ],
      "metadata": {
        "id": "hOOI5HryDmC1"
      },
      "execution_count": 73,
      "outputs": []
    },
    {
      "cell_type": "code",
      "source": [
        "# creating the confusion matrix\n",
        "\n",
        "from sklearn.metrics import confusion_matrix\n",
        "\n",
        "cm = confusion_matrix(y_test, y_pred)\n",
        "cm"
      ],
      "metadata": {
        "colab": {
          "base_uri": "https://localhost:8080/"
        },
        "id": "SCCWAnw_D4E2",
        "outputId": "89babe23-9796-4dbf-edd4-38edaa2643cd"
      },
      "execution_count": 74,
      "outputs": [
        {
          "output_type": "execute_result",
          "data": {
            "text/plain": [
              "array([[2297,   82],\n",
              "       [ 334,  287]])"
            ]
          },
          "metadata": {},
          "execution_count": 74
        }
      ]
    },
    {
      "cell_type": "code",
      "source": [
        "# calculating accuracy\n",
        "\n",
        "from sklearn.metrics import accuracy_score\n",
        "\n",
        "score = accuracy_score(y_test, y_pred)\n",
        "score"
      ],
      "metadata": {
        "colab": {
          "base_uri": "https://localhost:8080/"
        },
        "id": "ZW1JvpZtEIqM",
        "outputId": "ea2b4de3-7ca0-44a0-8313-b66b9c533b59"
      },
      "execution_count": 75,
      "outputs": [
        {
          "output_type": "execute_result",
          "data": {
            "text/plain": [
              "0.8613333333333333"
            ]
          },
          "metadata": {},
          "execution_count": 75
        }
      ]
    }
  ]
}